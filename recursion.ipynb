{
 "cells": [
  {
   "cell_type": "markdown",
   "metadata": {},
   "source": [
    "# Recursion \n"
   ]
  },
  {
   "cell_type": "code",
   "execution_count": null,
   "metadata": {},
   "outputs": [
    {
     "name": "stdout",
     "output_type": "stream",
     "text": [
      "Game Over\n"
     ]
    }
   ],
   "source": [
    "# Recursion : when i fuction call itself then it is called recursion without the help of loop\n",
    "#Example 1\n",
    "def count_down(number):\n",
    "    if(number==0):# base condition number==0\n",
    "        print(\"Game Over\")\n",
    "    else:\n",
    "        print(number)\n",
    "        count_down(number-1)\n",
    "count_down(10)"
   ]
  },
  {
   "cell_type": "code",
   "execution_count": 35,
   "metadata": {},
   "outputs": [
    {
     "name": "stdout",
     "output_type": "stream",
     "text": [
      "120\n"
     ]
    }
   ],
   "source": [
    "#Example 2\n",
    "def factorial(number):\n",
    "    if number==1: #base condition\n",
    "        return 1 # it is essential to return one for factorial\n",
    "    else:\n",
    "        return number * factorial(number-1) #Recursion\n",
    "print(factorial(5))"
   ]
  },
  {
   "cell_type": "code",
   "execution_count": null,
   "metadata": {},
   "outputs": [
    {
     "name": "stdout",
     "output_type": "stream",
     "text": [
      "10\n"
     ]
    }
   ],
   "source": [
    "# Test\n",
    "#print the numbers from 1 to 10 using recursion\n",
    "def number(num):\n",
    "    if(num==10):\n",
    "        return num\n",
    "    else:\n",
    "        print(num)\n",
    "        return number(num+1)\n",
    "print(number(1))"
   ]
  },
  {
   "cell_type": "code",
   "execution_count": null,
   "metadata": {},
   "outputs": [],
   "source": []
  }
 ],
 "metadata": {
  "kernelspec": {
   "display_name": "base",
   "language": "python",
   "name": "python3"
  },
  "language_info": {
   "codemirror_mode": {
    "name": "ipython",
    "version": 3
   },
   "file_extension": ".py",
   "mimetype": "text/x-python",
   "name": "python",
   "nbconvert_exporter": "python",
   "pygments_lexer": "ipython3",
   "version": "3.12.4"
  }
 },
 "nbformat": 4,
 "nbformat_minor": 2
}
