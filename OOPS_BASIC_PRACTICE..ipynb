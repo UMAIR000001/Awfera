{
 "cells": [
  {
   "cell_type": "markdown",
   "metadata": {},
   "source": [
    "# OOBS PROGRAMMING BASIC TO ADVANCE PRACTICE "
   ]
  },
  {
   "cell_type": "code",
   "execution_count": 21,
   "metadata": {},
   "outputs": [
    {
     "data": {
      "text/plain": [
       "'Q: DEFINE OOPS ?\\nANSWER:Object-Oriented Programming (OOP) is a programming paradigm based on the concept of classes and objects.\\nIt helps in writing modular,reusable, and organized code.\\nThe four main pillars of OOP are: 1) Encapsulation, 2) Polymorphism, 3) Inheritance, and 4) Abstraction.'"
      ]
     },
     "execution_count": 21,
     "metadata": {},
     "output_type": "execute_result"
    }
   ],
   "source": [
    "'''Q: DEFINE OOPS ?\n",
    "ANSWER:Object-Oriented Programming (OOP) is a programming paradigm based on the concept of classes and objects.\n",
    "It helps in writing modular,reusable, and organized code.\n",
    "The four main pillars of OOP are: 1) Encapsulation, 2) Polymorphism, 3) Inheritance, and 4) Abstraction.'''"
   ]
  },
  {
   "cell_type": "code",
   "execution_count": 22,
   "metadata": {},
   "outputs": [
    {
     "name": "stdout",
     "output_type": "stream",
     "text": [
      "Assalam oalikum everyone my name is  Mohammad Umair Hafeez  and i am 20 years old\n"
     ]
    }
   ],
   "source": [
    "#Basic Exaple :\n",
    "class person:\n",
    "    def __init__(self,name,age):  # Constructor (__init__) to initialize attributes\n",
    "        self.name=name    # Assigning name to the object\n",
    "        self.age = age    # Assigning age to the object\n",
    "    def introduction(self):# Method to introduce the person\n",
    "        print(f\"Assalam oalikum everyone my name is  {self.name} and i am {self.age} years old\")\n",
    "# Creating objects (instances) of the Person class\n",
    "person1=person(\"Mohammad Umair Hafeez \",20)\n",
    "# Calling the introduce method for  object\n",
    "person1.introduction()"
   ]
  },
  {
   "cell_type": "code",
   "execution_count": 23,
   "metadata": {},
   "outputs": [
    {
     "name": "stdout",
     "output_type": "stream",
     "text": [
      "My name is Umair\n"
     ]
    }
   ],
   "source": [
    "class democlass:\n",
    "    name=\"Umair\"\n",
    "    def introduction(self):\n",
    "        print(f\"My name is {self.name}\") #here without \"self.\"  keyowrd we cannot use name \n",
    "obj_of_democlass=democlass()\n",
    "obj_of_democlass.introduction()\n"
   ]
  },
  {
   "cell_type": "code",
   "execution_count": 24,
   "metadata": {},
   "outputs": [
    {
     "name": "stdout",
     "output_type": "stream",
     "text": [
      "I am a statement from the constructor.\n",
      "I will always be displayed when an object is created.\n",
      "Thus, it is useful for initializing variables.\n",
      "My name is Umair\n",
      "I am a statement from the constructor.\n",
      "I will always be displayed when an object is created.\n",
      "Thus, it is useful for initializing variables.\n",
      "My name is Baloch\n"
     ]
    }
   ],
   "source": [
    "class DemoClass:\n",
    "    # The __init__ method is a special method called a constructor.\n",
    "    # It is automatically called when a new object of the class is created.\n",
    "    def __init__(self, name):  # Constructor takes the 'name' argument\n",
    "        # The 'self.name' is an instance variable that stores the name for each object\n",
    "        self.name = name  \n",
    "        \n",
    "        # This print statement is displayed when the object is created,\n",
    "        # and it's useful for initializing values and providing information to the user.\n",
    "        print('''I am a statement from the constructor.\n",
    "I will always be displayed when an object is created.\n",
    "Thus, it is useful for initializing variables.''')\n",
    "\n",
    "    def introduction(self):\n",
    "        # This method uses the instance variable 'name' to print a message.\n",
    "        print(f\"My name is {self.name}\")  # Printing the name stored in the object\n",
    "\n",
    "# Creating objects of the class. The constructor is called automatically when we create an object.\n",
    "# We pass the name to the constructor to initialize the 'name' for each object.\n",
    "obj1 = DemoClass(\"Umair\")  # Creating the first object with the name \"Umair\"\n",
    "obj1.introduction()  # Calling the introduction method to print the name for obj1\n",
    "\n",
    "obj2 = DemoClass(\"Baloch\")  # Creating the second object with the name \"Baloch\"\n",
    "obj2.introduction()  # Calling the introduction method to print the name for obj2\n"
   ]
  },
  {
   "cell_type": "code",
   "execution_count": 25,
   "metadata": {},
   "outputs": [
    {
     "name": "stdout",
     "output_type": "stream",
     "text": [
      "My name is Umair\n",
      "My name is Baloch\n"
     ]
    }
   ],
   "source": [
    "class DemoClass:\n",
    "    # No constructor, so no automatic initialization\n",
    "    def introduction(self):\n",
    "        print(f\"My name is {self.name}\")\n",
    "\n",
    "# Creating objects\n",
    "obj1 = DemoClass()  # Object created without setting 'name'\n",
    "obj2 = DemoClass()  # Another object created without setting 'name'\n",
    "\n",
    "# Manually setting the 'name' for each object after creation\n",
    "obj1.name = \"Umair\"  # Setting name manually for obj1\n",
    "obj2.name = \"Baloch\"  # Setting name manually for obj2\n",
    "\n",
    "# Now we can call the introduction method\n",
    "obj1.introduction()  # Output: My name is Umair\n",
    "obj2.introduction()  # Output: My name is Baloch\n"
   ]
  },
  {
   "cell_type": "markdown",
   "metadata": {},
   "source": [
    "# Inheritance in Object-Oriented Programming (OOP):"
   ]
  },
  {
   "cell_type": "code",
   "execution_count": null,
   "metadata": {},
   "outputs": [],
   "source": [
    "'''Inheritance:Inheritance is a concept in Object-Oriented Programming (OOP) that allows one class (called the child class or subclass)\n",
    "to inherit properties and behaviors (methods and attributes) from another class\n",
    "(called the parent class or superclass). This allows for code reusability and a hierarchical relationship between classes.\n",
    "\n",
    "Key points about inheritance:\n",
    "\n",
    "The child class can reuse code from the parent class without rewriting it.\n",
    "The child class can also extend or modify the behavior of the parent class.\n",
    "Inheritance helps organize code in a logical way by creating relationships between classes.\n",
    "Types of Inheritance:\n",
    "1 :Single Inheritance.\n",
    "2 :Multiple Inheritance.\n",
    "3 :Multilevel Inheritance.\n",
    "4 :Hierarchical Inheritance.\n",
    "\n",
    "\n",
    "\n",
    "1:Single Inheritance:\n",
    "A class inherits from only one parent class.\n",
    "This is the simplest form of inheritance.'''\n"
   ]
  },
  {
   "cell_type": "code",
   "execution_count": null,
   "metadata": {},
   "outputs": [
    {
     "name": "stdout",
     "output_type": "stream",
     "text": [
      "hi i am from class A\n",
      "hi i am from class B\n"
     ]
    }
   ],
   "source": [
    "# This is a demonstration of **Single Inheritance**.\n",
    "# Class B inherits from class A, meaning it has access to the method display_A() of class A,\n",
    "# in addition to its own method display_B().\n",
    "\n",
    "class A:\n",
    "    def display_A(self):\n",
    "        print(f\"Hi, I am from class A\")\n",
    "\n",
    "class B(A):  # Class B inherits from class A\n",
    "    def display_B(self):\n",
    "        print(f\"Hi, I am from class B\")\n",
    "\n",
    "# Creating an object of class B\n",
    "obj1 = B()\n",
    "\n",
    "# Calling methods from both class A and class B using the obj1 object\n",
    "obj1.display_A()  # Inherited method from class A\n",
    "obj1.display_B()  # Method of class B\n"
   ]
  },
  {
   "cell_type": "code",
   "execution_count": null,
   "metadata": {},
   "outputs": [],
   "source": [
    "''' 2:Multiple Inheritance:\n",
    "A class inherits from more than one parent class.\n",
    "This allows a class to combine the properties and methods of multiple classes.'''"
   ]
  },
  {
   "cell_type": "code",
   "execution_count": 30,
   "metadata": {},
   "outputs": [
    {
     "name": "stdout",
     "output_type": "stream",
     "text": [
      "Hi beta, love from Father\n",
      "Hi beta, love from Mother\n",
      "Hi Umair! I am from the Me class\n"
     ]
    }
   ],
   "source": [
    "# This demonstrates **Multiple Inheritance**.\n",
    "# Class 'me' inherits from both class 'father' and class 'mother'.\n",
    "# The object of class 'me' can access methods from both parent classes, as well as its own methods.\n",
    "\n",
    "class Father:\n",
    "    def displaye_F(self):\n",
    "        print(f\"Hi beta, love from Father\")\n",
    "\n",
    "class Mother:\n",
    "    def displaye_M(self):\n",
    "        print(f\"Hi beta, love from Mother\")\n",
    "\n",
    "class Me(Father, Mother):  # Class 'Me' inherits from both 'Father' and 'Mother'\n",
    "    def displaye_Me(self):\n",
    "        print(f\"Hi Umair! I am from the Me class\")\n",
    "\n",
    "# Creating an object of class 'Me'\n",
    "obj1 = Me()\n",
    "\n",
    "# Calling methods from Father, Mother, and Me\n",
    "obj1.displaye_F()  # Inherited method from Father\n",
    "obj1.displaye_M()  # Inherited method from Mother\n",
    "obj1.displaye_Me() # Method of the Me class\n"
   ]
  },
  {
   "cell_type": "code",
   "execution_count": null,
   "metadata": {},
   "outputs": [],
   "source": [
    "''' 3:Multilevel Inheritance:\n",
    "\n",
    "A class inherits from a parent class, and another class inherits from that class, forming a chain.\n",
    "The inheritance follows a hierarchy (parent -> child -> grandchild).'''"
   ]
  },
  {
   "cell_type": "code",
   "execution_count": null,
   "metadata": {},
   "outputs": [
    {
     "name": "stdout",
     "output_type": "stream",
     "text": [
      "Hi beta, love from Father\n",
      "Hi beta, love from Mother\n",
      "Hi Umair! I am from the Me class\n"
     ]
    }
   ],
   "source": [
    "# This demonstrates **Multilevel Inheritance**.\n",
    "# Class 'Me' inherits from class 'Mother', which itself inherits from class 'Father'.\n",
    "# The object of class 'Me' can access methods from both parent classes and its own method.\n",
    "\n",
    "class Father:\n",
    "    def displaye_F(self):\n",
    "        print(f\"Hi beta, love from Father\")\n",
    "\n",
    "class Mother(Father):  # Mother inherits from Father\n",
    "    def displaye_M(self):\n",
    "        print(f\"Hi beta, love from Mother\")\n",
    "\n",
    "class Me(Mother):  # Me inherits from Mother (which already inherits from Father)\n",
    "    def displaye_Me(self):\n",
    "        print(f\"Hi Umair! I am from the Me class\")\n",
    "\n",
    "# Creating an object of class 'Me'\n",
    "obj1 = Me()\n",
    "\n",
    "# Calling methods from Father, Mother, and Me\n",
    "obj1.displaye_F()  # Inherited method from Father\n",
    "obj1.displaye_M()  # Inherited method from Mother\n",
    "obj1.displaye_Me() # Method of the Me class\n"
   ]
  },
  {
   "cell_type": "code",
   "execution_count": null,
   "metadata": {},
   "outputs": [],
   "source": [
    "\n",
    "\n",
    "''' 4:Hierarchical Inheritance:\n",
    "\n",
    "Multiple child classes inherit from a single parent class.\n",
    "This allows different classes to share the same parent class code.'''"
   ]
  },
  {
   "cell_type": "code",
   "execution_count": null,
   "metadata": {},
   "outputs": [
    {
     "name": "stdout",
     "output_type": "stream",
     "text": [
      "Animals can speak with each_other\n",
      "Birds can speak with each_other\n",
      "Cats can speak with each_other\n",
      "Animals can speak with each_other\n"
     ]
    }
   ],
   "source": [
    "# This demonstrates **Hierarchical Inheritance**.\n",
    "# Multiple child classes (Bird and Cat) inherit from the same parent class (Animal).\n",
    "# Both Bird and Cat can access the method from the Animal class, as well as their own specific methods.\n",
    "\n",
    "class Animal:\n",
    "    def animal_speak(self):\n",
    "        print(f\"Animals can speak with each other\")\n",
    "\n",
    "class Bird(Animal):  # Bird inherits from Animal\n",
    "    def bird_speak(self):\n",
    "        print(f\"Birds can speak with each other\")\n",
    "\n",
    "class Cat(Animal):  # Cat inherits from Animal\n",
    "    def cat_speak(self):\n",
    "        print(f\"Cats can speak with each other\")\n",
    "\n",
    "# Creating objects of Bird and Cat\n",
    "Eagle = Bird()\n",
    "cat1 = Cat()\n",
    "\n",
    "# Calling methods from Animal, Bird, and Cat\n",
    "Eagle.animal_speak()  # Inherited method from Animal\n",
    "Eagle.bird_speak()    # Method of Bird class\n",
    "\n",
    "cat1.cat_speak()      # Method of Cat class\n",
    "cat1.animal_speak()   # Inherited method from Animal\n"
   ]
  },
  {
   "cell_type": "code",
   "execution_count": null,
   "metadata": {},
   "outputs": [],
   "source": [
    "# ************Test**************\n",
    "'''Level 1: \"Basic Program Building\"\n",
    "1. Program: Write a Python program that defines a class Student with the following attributes:\n",
    "\n",
    "name (string)\n",
    "roll_no (integer)\n",
    "marks (float)\n",
    "The program should have:\n",
    "\n",
    "A method to input student details.\n",
    "A method to display the student details. '''"
   ]
  },
  {
   "cell_type": "code",
   "execution_count": null,
   "metadata": {},
   "outputs": [
    {
     "ename": "AttributeError",
     "evalue": "'student' object has no attribute 'input_student_detail'",
     "output_type": "error",
     "traceback": [
      "\u001b[1;31m---------------------------------------------------------------------------\u001b[0m",
      "\u001b[1;31mAttributeError\u001b[0m                            Traceback (most recent call last)",
      "Cell \u001b[1;32mIn[70], line 15\u001b[0m\n\u001b[0;32m     12\u001b[0m         \u001b[38;5;28mprint\u001b[39m(\u001b[38;5;124mf\u001b[39m\u001b[38;5;124m\"\u001b[39m\u001b[38;5;124mStudent name is \u001b[39m\u001b[38;5;132;01m{\u001b[39;00m\u001b[38;5;28mself\u001b[39m\u001b[38;5;241m.\u001b[39mname\u001b[38;5;132;01m}\u001b[39;00m\u001b[38;5;124m , roll_no is \u001b[39m\u001b[38;5;132;01m{\u001b[39;00m\u001b[38;5;28mself\u001b[39m\u001b[38;5;241m.\u001b[39mroll_no\u001b[38;5;132;01m}\u001b[39;00m\u001b[38;5;124m and having marks \u001b[39m\u001b[38;5;132;01m{\u001b[39;00m\u001b[38;5;28mself\u001b[39m\u001b[38;5;241m.\u001b[39mmarks\u001b[38;5;132;01m}\u001b[39;00m\u001b[38;5;124m \u001b[39m\u001b[38;5;124m\"\u001b[39m)\n\u001b[0;32m     14\u001b[0m student1\u001b[38;5;241m=\u001b[39mstudent()\n\u001b[1;32m---> 15\u001b[0m \u001b[43mstudent1\u001b[49m\u001b[38;5;241;43m.\u001b[39;49m\u001b[43minput_student_detail\u001b[49m()\n\u001b[0;32m     16\u001b[0m student1\u001b[38;5;241m.\u001b[39mdisplay_student_detail()\n",
      "\u001b[1;31mAttributeError\u001b[0m: 'student' object has no attribute 'input_student_detail'"
     ]
    }
   ],
   "source": [
    "# **********Level no 1 Program***********\n",
    "class student:\n",
    "    def __init__(self,name=None,roll_no=None,marks=None):\n",
    "        self.name=name\n",
    "        self.roll_no=roll_no\n",
    "        self.marks=marks\n",
    "    def input_student_detail(self):\n",
    "            self.name=input(\"Enter your name :\")\n",
    "            self.roll_no=int(input(\"Enter your roll_no :\"))\n",
    "            self.marks=float(input(\"enter your marks :\"))\n",
    "    def display_student_detail(self):\n",
    "        print(f\"Student name is {self.name} , roll_no is {self.roll_no} and having marks {self.marks} \")\n",
    "\n",
    "student1=student()\n",
    "student1.input_student_detail()\n",
    "student1.display_student_detail()"
   ]
  },
  {
   "cell_type": "code",
   "execution_count": null,
   "metadata": {},
   "outputs": [],
   "source": [
    "'''Level 2: \"Intermediate Program Building\"\n",
    "2. Program: Write a Python program that implements Inheritance. Define two classes:\n",
    "\n",
    "Person with attributes: name (string), age (integer).\n",
    "Employee that inherits from Person and has an additional attribute salary (float).\n",
    "The program should:\n",
    "\n",
    "Take input for the name, age, and salary.\n",
    "Display all the details for the employee.'''"
   ]
  },
  {
   "cell_type": "code",
   "execution_count": null,
   "metadata": {},
   "outputs": [
    {
     "name": "stdout",
     "output_type": "stream",
     "text": [
      "Name of employee is Umair , age 20 years old having Salary 20000.0 \n"
     ]
    }
   ],
   "source": [
    "# ****************Level no 2  Program***********\n",
    "class Person:\n",
    "    def __init__(self,name,age):\n",
    "        self.name=name\n",
    "        self.age=age\n",
    "class Employee(Person):# Single Inheritance\n",
    "    def __init__(self,salary=None,name=None,age=None):\n",
    "        super().__init__(name,age)\n",
    "        self.salary=salary\n",
    "    def input_employee_detail(self):\n",
    "        self.name=input(\"Enter your Name : \")\n",
    "        self.age=int(input(\"Enter your Age :\"))\n",
    "        self.salary=float(input(\"Enter your exact Salary : \"))\n",
    "    def display_employee_detail(self):\n",
    "        print(f\"Name of employee is {self.name} , age {self.age} years old having Salary {self.salary} \")\n",
    "emp1=Employee()\n",
    "emp1.input_employee_detail()\n",
    "emp1.display_employee_detail()\n",
    "        \n",
    "    "
   ]
  },
  {
   "cell_type": "code",
   "execution_count": null,
   "metadata": {},
   "outputs": [],
   "source": [
    "'''Level 3: \"Advanced Program Building\"\n",
    "3. Program: Write a Python program to implement Multiple Inheritance. Define three classes:\n",
    "\n",
    "Animal with a method sound() that prints \"Animals make sounds.\"\n",
    "Bird with a method fly() that prints \"Birds can fly.\"\n",
    "Fish with a method swim() that prints \"Fish can swim.\"\n",
    "Create a new class called FlyingFish that inherits from both Bird and Fish. It should have a method show()\n",
    "that displays a message like:\n",
    "\"FlyingFish can swim and fly.\"'''\n",
    "\n"
   ]
  },
  {
   "cell_type": "code",
   "execution_count": null,
   "metadata": {},
   "outputs": [
    {
     "name": "stdout",
     "output_type": "stream",
     "text": [
      "FlyingFish can swim and Fly\n"
     ]
    }
   ],
   "source": [
    "# ****************Level no 3  Program***********\n",
    "class Animal:\n",
    "    def sound(self):\n",
    "        print(f\"Animals make Sounds \")\n",
    "class Bird:\n",
    "    def fly(self):\n",
    "        print(f\"Birds can Fly\")\n",
    "class Fish:\n",
    "    def swim(self):\n",
    "        print(f\"Fish can Swim\")\n",
    "class FlyingFish(Bird,Fish): #Muliple Inheritnace\n",
    "    def show(self):\n",
    "        print(f\"FlyingFish can swim and Fly\")\n",
    "obj1=FlyingFish()\n",
    "obj1.show()\n"
   ]
  },
  {
   "cell_type": "code",
   "execution_count": null,
   "metadata": {},
   "outputs": [],
   "source": [
    "'''Level 4: \"Expert Program Building\"\n",
    "4. Program: Write a Python program that uses Method Overriding in Multilevel Inheritance. Define the following classes:\n",
    "\n",
    "Vehicle with a method fuel() that prints \"Fuel is required to run.\"\n",
    "Car that inherits from Vehicle and overrides the fuel() method to print \"Petrol is used for cars.\"\n",
    "ElectricCar that inherits from Car and overrides the fuel() method to print \"Electricity is used for electric cars.\"\n",
    "The program should:\n",
    "\n",
    "Create objects for all classes and call the fuel() method on each object.'''"
   ]
  },
  {
   "cell_type": "code",
   "execution_count": 72,
   "metadata": {},
   "outputs": [
    {
     "name": "stdout",
     "output_type": "stream",
     "text": [
      "Fuel is required to run\n",
      "Petrol is used for cars.\n",
      "Electricity is used for electric cars.\n"
     ]
    }
   ],
   "source": [
    "# ****************Level no 4  Program***********\n",
    "class Vehicle :\n",
    "    def fuel(self):\n",
    "        print(f\"Fuel is required to run\")\n",
    "class Car(Vehicle):\n",
    "       def fuel(self):\n",
    "        print(f\"Petrol is used for cars.\")\n",
    "class ElectriceCar(Vehicle):\n",
    "       def fuel(self):\n",
    "        print(f\"Electricity is used for electric cars.\")\n",
    "Vehicle1=Vehicle()\n",
    "Vehicle1.fuel()\n",
    "Car1=Car()\n",
    "Car1.fuel()\n",
    "ElectriceCar1=ElectriceCar()\n",
    "ElectriceCar1.fuel()\n"
   ]
  },
  {
   "cell_type": "code",
   "execution_count": null,
   "metadata": {},
   "outputs": [],
   "source": [
    "# alhumdulillah ! The abovr test was taken by ChatGPT and my Result is :\n",
    "'''Total Score:\n",
    "Program 1: 9/10\n",
    "Program 2: 9/10\n",
    "Program 3: 10/10\n",
    "Program 4: 8/10\n",
    "Total: 36/40\n",
    "Score: 90%\n",
    "You’ve done a fantastic job! You're definitely on the right track. Keep practicing,\n",
    "and you’ll master these concepts even more!'''"
   ]
  },
  {
   "cell_type": "markdown",
   "metadata": {},
   "source": [
    " # Encapsulation"
   ]
  },
  {
   "cell_type": "code",
   "execution_count": null,
   "metadata": {},
   "outputs": [
    {
     "data": {
      "text/plain": [
       "'Encapsulation:Encapsulation is one of the fundamental pillars of Object-Oriented Programming (OOP).\\nIt refers to the practice of restricting direct access to certain details of an object and\\nonly allowing modification through well-defined methods.It helps in data protection, code organization,\\nand security by hiding the internal implementation of a class from the outside world.\\nKey Points:\\nUses private (__) and protected (_) variables to restrict direct access.\\nProvides getter and setter methods to access and modify data safely.\\nEnhances security by preventing unintended modifications.'"
      ]
     },
     "execution_count": 73,
     "metadata": {},
     "output_type": "execute_result"
    }
   ],
   "source": [
    "'''Encapsulation:Encapsulation is one of the fundamental pillars of Object-Oriented Programming (OOP).\n",
    "It refers to the practice of restricting direct access to certain details of an object and\n",
    "only allowing modification through well-defined methods.It helps in data protection, code organization,\n",
    "and security by hiding the internal implementation of a class from the outside world.\n",
    "Key Points:\n",
    "Uses private (__) and protected (_) variables to restrict direct access.\n",
    "Provides getter and setter methods to access and modify data safely.\n",
    "Enhances security by preventing unintended modifications.'''\n",
    "#In simple words encapsulation concept is used for making an object variable should not be directly accessible."
   ]
  },
  {
   "cell_type": "code",
   "execution_count": 74,
   "metadata": {},
   "outputs": [
    {
     "data": {
      "text/plain": [
       "'Mohammad Umair Hafeez'"
      ]
     },
     "execution_count": 74,
     "metadata": {},
     "output_type": "execute_result"
    }
   ],
   "source": [
    "#**********use of getter and setter in class ******\n",
    "class democlass:\n",
    "    def __init__(self):\n",
    "        self.__name=\" \"\n",
    "    def getter(self):\n",
    "        return self.__name\n",
    "    def setter(self,name):\n",
    "        self.__name=name\n",
    "        return self.__name\n",
    "demo_obj=democlass()\n",
    "demo_obj.setter(\"Mohammad Umair Hafeez\")\n",
    "demo_obj.getter()\n",
    "        "
   ]
  },
  {
   "cell_type": "code",
   "execution_count": 79,
   "metadata": {},
   "outputs": [
    {
     "name": "stdout",
     "output_type": "stream",
     "text": [
      "My name is Umair, and I am accessed through the constructor.\n",
      "Baloch\n"
     ]
    }
   ],
   "source": [
    "class Demo:\n",
    "    name = \"Baloch\"  # A public class variable that can be accessed outside the class.\n",
    "    __name = \"Umair\"  # A private class variable that cannot be accessed directly from outside.\n",
    "\n",
    "    def __init__(self):\n",
    "        # A private class variable can be accessed within the class.\n",
    "        # Since a constructor is called automatically when an object is created,\n",
    "        # the statement below will run immediately.\n",
    "        print(f\"My name is {self.__name}, and I am accessed through the constructor.\")\n",
    "\n",
    "# Creating an object of the Demo class\n",
    "obj1 = Demo()\n",
    "\n",
    "# Accessing the public class variable\n",
    "print(obj1.name)  # This will print: Baloch\n",
    "\n",
    "# Trying to access the private variable directly (this will cause an error)\n",
    "# print(obj1.__name)  # Uncommenting this line will raise an AttributeError.\n"
   ]
  },
  {
   "cell_type": "markdown",
   "metadata": {},
   "source": [
    "Test :Beginner Level\n",
    "Create a class Student with the following attributes:\n",
    "\n",
    "name,age,marks\n",
    "\n",
    "Create methods for the following:\n",
    "\n",
    "A method to set the values of attributes (use setter).\n",
    "\n",
    "A method to get the marks of a student (use getter)."
   ]
  },
  {
   "cell_type": "code",
   "execution_count": null,
   "metadata": {},
   "outputs": [
    {
     "name": "stdout",
     "output_type": "stream",
     "text": [
      "My Name is Mohammad Umair Hafeez my age is 20 and my Marks are 24\n"
     ]
    }
   ],
   "source": [
    "class Student:\n",
    "    def __init__(self, name, age, marks):\n",
    "        # Declaring private variables for the instance\n",
    "        self.__name = name\n",
    "        self.__age = age\n",
    "        self.__marks = marks\n",
    "\n",
    "    def set_name(self, name):  # Setter for name\n",
    "        self.__name = name\n",
    "\n",
    "    def set_marks(self, marks):  # Setter for marks\n",
    "        self.__marks = marks\n",
    "\n",
    "    def get_intro(self):  \n",
    "        return f\"My Name is {self.__name} my age is {self.__age} and my Marks are {self.__marks}\"\n",
    "\n",
    "# Object Declaration with constructor arguments\n",
    "student1 = Student(\"umair baloch\", 20, 23)\n",
    "\n",
    "# Calling setter methods for object student1\n",
    "student1.set_name(\"Mohammad Umair Hafeez\")\n",
    "student1.set_marks(24)\n",
    "\n",
    "# Printing the result from the get_intro() method\n",
    "print(student1.get_intro())  # This will output the formatted string with the name age and marks\n"
   ]
  },
  {
   "cell_type": "code",
   "execution_count": null,
   "metadata": {},
   "outputs": [],
   "source": [
    "'''Intermediate Level\n",
    "Create a class Account that simulates a bank account.\n",
    "\n",
    "Private attributes: balance, account_number\n",
    "\n",
    "Public methods:\n",
    "\n",
    "deposit(amount)\n",
    "\n",
    "withdraw(amount)\n",
    "\n",
    "check_balance()\n",
    "\n",
    "Ensure that balance cannot be directly accessed or modified outside of the class.'''"
   ]
  },
  {
   "cell_type": "code",
   "execution_count": 29,
   "metadata": {},
   "outputs": [
    {
     "name": "stdout",
     "output_type": "stream",
     "text": [
      "After Withdraw of 50, The Current balance is 4950\n",
      "After Deposit of 250, The Current balance is 5200\n",
      "The Current balance is 5200\n"
     ]
    }
   ],
   "source": [
    "class BankAccount:\n",
    "    # Constructor to initialize the balance of the account\n",
    "    def __init__(self, balance):  # constructor\n",
    "        self.__balance = balance  # Private variable to store the balance\n",
    "\n",
    "    # Method to display the current balance (getter for the private variable)\n",
    "    def current_balance(self):  # getter of private variable\n",
    "        print(f\"The Current balance is {self.__balance}\")\n",
    "\n",
    "    # Method to deposit money into the account (setter)\n",
    "    def deposit(self, amount):  # setter\n",
    "        if amount > 0:  # Ensure the deposit amount is positive\n",
    "            self.__balance += amount\n",
    "            return print(f\"After Deposit of {amount}, The Current balance is {self.__balance}\")\n",
    "        elif amount <= 0:  # Handle invalid deposit amount (non-positive)\n",
    "            print(\"Deposit amount must be greater than zero.\")\n",
    "\n",
    "    # Method to withdraw money from the account\n",
    "    def withdraw(self, amount):\n",
    "        if amount <= self.__balance:  # Check if withdrawal is possible (balance suffices)\n",
    "            self.__balance -= amount\n",
    "            return print(f\"After Withdraw of {amount}, The Current balance is {self.__balance}\")\n",
    "        elif amount > self.__balance:  # Handle insufficient funds scenario\n",
    "            print(\"Insufficient Funds\")\n",
    "\n",
    "# Create an instance of BankAccount with an initial balance of 5000\n",
    "account1 = BankAccount(5000)  # initialization of object\n",
    "\n",
    "# Attempt to withdraw an amount larger than the available balance\n",
    "account1.withdraw(50)\n",
    "\n",
    "# Deposit a valid amount into the account\n",
    "account1.deposit(250)\n",
    "# Display the current balance of the account\n",
    "account1.current_balance()\n",
    "\n"
   ]
  },
  {
   "cell_type": "code",
   "execution_count": null,
   "metadata": {},
   "outputs": [],
   "source": [
    "'''Advanced Level\n",
    "Create a class Car with private attributes:\n",
    "\n",
    "brand, model, year\n",
    "\n",
    "A method to update the year, but only if the year is greater than the current year.\n",
    "\n",
    "In the main program:\n",
    "\n",
    "Create an instance of Car and update the year using the method.\n",
    "\n",
    "Try to access and modify the brand and model directly (it should not be allowed).\n",
    "\n",
    "Create a class Employee with the following attributes:\n",
    "\n",
    "name, salary, designation\n",
    "\n",
    "Include the following methods:\n",
    "\n",
    "A setter method for salary, ensuring salary can't be less than the minimum wage.\n",
    "\n",
    "A getter method to return salary and designation in a formatted string.\n",
    "\n",
    "Use encapsulation to make sure salary cannot be accessed directly. '''\n",
    "\n"
   ]
  },
  {
   "cell_type": "code",
   "execution_count": null,
   "metadata": {},
   "outputs": [
    {
     "name": "stdout",
     "output_type": "stream",
     "text": [
      "Car name: toyota car's model: j3 and car's year: 2025\n",
      "The employee name is Umair having salary of 5000 as a Data Scienctist \n"
     ]
    }
   ],
   "source": [
    "class Car:\n",
    "    #initization of constructor\n",
    "    def __init__(self,brand,model,year):\n",
    "#initlization of private variables\n",
    "        self.__brand=brand\n",
    "        self.__model=model\n",
    "        self.__year=year\n",
    "        \n",
    "    def update_year(self,year): #setter\n",
    "        if(self.__year<year):\n",
    "            self.__year=year\n",
    "    def car_info(self):\n",
    "        print( f\"Car name: {self.__brand} car's model: {self.__model} and car's year: {self.__year}\")\n",
    "car1=Car(\"toyota\",\"j3\",2021) #obj initlization\n",
    "#car1.self.__model \n",
    "car1.update_year(2025)\n",
    "car1.car_info()\n",
    "\n",
    "#initilization of second phase of program of related employee\n",
    "class Employee:\n",
    "    def __init__(self,name,salary,designation):\n",
    "        self.__name=name\n",
    "        self.__salary=500\n",
    "        self.__designation=designation \n",
    "    def set_salary(self,amount):\n",
    "        if amount>self.__salary:\n",
    "            self.__salary=amount\n",
    "            return self.__salary\n",
    "        else:\n",
    "            print(\"Salary must be greater than normal wage\")\n",
    "    def employee_info(self):\n",
    "        print(f\"The employee name is {self.__name} having salary of {self.__salary} as a {self.__designation} \")\n",
    "emp1=Employee(\"Umair\",1500,\"Data Scienctist\")\n",
    "emp1.set_salary(5000)\n",
    "emp1.employee_info()\n",
    "        \n",
    "        "
   ]
  }
 ],
 "metadata": {
  "kernelspec": {
   "display_name": "Python 3",
   "language": "python",
   "name": "python3"
  },
  "language_info": {
   "codemirror_mode": {
    "name": "ipython",
    "version": 3
   },
   "file_extension": ".py",
   "mimetype": "text/x-python",
   "name": "python",
   "nbconvert_exporter": "python",
   "pygments_lexer": "ipython3",
   "version": "3.12.9"
  }
 },
 "nbformat": 4,
 "nbformat_minor": 2
}
